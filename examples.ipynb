{
 "cells": [
  {
   "cell_type": "code",
   "execution_count": 4,
   "metadata": {},
   "outputs": [
    {
     "data": {
      "text/plain": [
       "WindowsPath('output.mp3')"
      ]
     },
     "execution_count": 4,
     "metadata": {},
     "output_type": "execute_result"
    }
   ],
   "source": [
    "from dotify import Dotify, models\n",
    "SPOTIFY_ID = '2cb3ee1dc29549958d533a72a7a45ff8'\n",
    "SPOTIFY_SECRET = '90d6a666d94549c6871096113bc4b0d3'\n",
    "with Dotify(SPOTIFY_ID, SPOTIFY_SECRET):\n",
    "    result = next(models.Track.search('somethin stupid frank sinatra'))\n",
    "    # result = models.Track.from_url('https://open.spotify.com/track/4feXcsElKIVsGwkbnTHAfV?si=b6030129e7c944b1')\n",
    "result.download('output.mp3')"
   ]
  },
  {
   "cell_type": "code",
   "execution_count": 2,
   "metadata": {},
   "outputs": [
    {
     "data": {
      "text/plain": [
       "<Track \"Frank Sinatra - Somethin' Stupid\">"
      ]
     },
     "execution_count": 2,
     "metadata": {},
     "output_type": "execute_result"
    }
   ],
   "source": [
    "result"
   ]
  },
  {
   "cell_type": "code",
   "execution_count": 3,
   "metadata": {},
   "outputs": [
    {
     "data": {
      "text/plain": [
       "<bound method TrackBase.__init__ of <Track \"Frank Sinatra - Somethin' Stupid\">>"
      ]
     },
     "execution_count": 3,
     "metadata": {},
     "output_type": "execute_result"
    }
   ],
   "source": [
    "result.__init__"
   ]
  }
 ],
 "metadata": {
  "kernelspec": {
   "display_name": "Python 3",
   "language": "python",
   "name": "python3"
  },
  "language_info": {
   "codemirror_mode": {
    "name": "ipython",
    "version": 3
   },
   "file_extension": ".py",
   "mimetype": "text/x-python",
   "name": "python",
   "nbconvert_exporter": "python",
   "pygments_lexer": "ipython3",
   "version": "3.10.11"
  }
 },
 "nbformat": 4,
 "nbformat_minor": 2
}
